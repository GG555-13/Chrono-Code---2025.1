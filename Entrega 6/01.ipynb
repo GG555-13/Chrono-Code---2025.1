{
  "cells": [
    {
      "cell_type": "code",
      "source": [
        "# --- Passo 1: Importar as bibliotecas necessarias ---\n",
        "# Usaremos numpy para trabalhar com os dados e scikit-learn para o modelo de machine learning.\n",
        "import numpy as np\n",
        "from sklearn.model_selection import train_test_split\n",
        "from sklearn.linear_model import LinearRegression\n",
        "from sklearn.metrics import mean_squared_error, r2_score"
      ],
      "outputs": [],
      "execution_count": null,
      "metadata": {
        "id": "wxyeAjFLCqNY"
      }
    },
    {
      "cell_type": "code",
      "source": [
        "# --- Passo 2: Gerar Dados Historicos (Simulacao) ---\n",
        "# No mundo real, esses dados viriam dos sensores. Para nosso exercicio, vamos simula-los.\n",
        "# A equipe de engenharia coletou dados de 100 corridas anteriores.\n",
        "\n",
        "print(\"--- Passo 2: Gerando dados historicos das corridas ---\")\n",
        "np.random.seed(42)\n",
        "num_corridas = 100\n",
        "\n",
        "# Variaveis (Features):\n",
        "# Velocidade media na volta (km/h)\n",
        "velocidade_media = np.random.uniform(150, 250, num_corridas)\n",
        "# Consumo de combustivel (Litros por volta)\n",
        "consumo_combustivel = np.random.uniform(2, 5, num_corridas)\n",
        "# Temperatura do motor (°C)\n",
        "temperatura_motor = np.random.uniform(90, 130, num_corridas)\n",
        "# Atrito dos pneus (indice de 0 a 1, onde 1 e o maior atrito)\n",
        "atrito_pneus = np.random.uniform(0.3, 0.9, num_corridas)\n",
        "\n",
        "# Variavel Alvo (Target):\n",
        "# O tempo de volta (em segundos) e o que queremos prever.\n",
        "# Vamos criar uma relacao linear com as features e adicionar um pouco de \"ruido\"\n",
        "# para simular a imprevisibilidade do mundo real.\n",
        "tempo_volta = 200 - (velocidade_media * 0.5) + (consumo_combustivel * 2) + (temperatura_motor * 0.1) + (atrito_pneus * 5) + np.random.normal(0, 2, num_corridas)\n",
        "\n",
        "# Organizando os dados\n",
        "# X sao as variaveis de entrada\n",
        "X = np.vstack((velocidade_media, consumo_combustivel, temperatura_motor, atrito_pneus)).T\n",
        "\n",
        "# y e o que queremos prever\n",
        "y = tempo_volta\n",
        "\n",
        "print(\"Dados gerados com sucesso para {} corridas.\".format(num_corridas))\n",
        "print(\"Exemplo de dados de uma corrida:\")\n",
        "print(\"Features (Velocidade, Consumo, Temp., Atrito):\", X[0])\n",
        "print(\"Alvo (Tempo de Volta):\", y[0])\n",
        "print(\"-\" * 30)\n"
      ],
      "metadata": {
        "colab": {
          "base_uri": "https://localhost:8080/"
        },
        "id": "Pg2hgYwrCvSu",
        "outputId": "684a7c8a-79ac-4885-9672-90511190f710"
      },
      "execution_count": null,
      "outputs": [
        {
          "output_type": "stream",
          "name": "stdout",
          "text": [
            "--- Passo 2: Gerando dados historicos das corridas ---\n",
            "Dados gerados com sucesso para 100 corridas.\n",
            "Exemplo de dados de uma corrida:\n",
            "Features (Velocidade, Consumo, Temp., Atrito): [187.45401188   2.09428756 115.68126585   0.33100903]\n",
            "Alvo (Tempo de Volta): 126.29569853418391\n",
            "------------------------------\n"
          ]
        }
      ]
    },
    {
      "cell_type": "code",
      "source": [
        "# --- Passo 3: Preparar os Dados para o Treinamento ---\n",
        "# Dividimos os dados em dois conjuntos: um para treinar o modelo e outro para testa-lo.\n",
        "# Isso e crucial para saber se o modelo consegue generalizar para dados que nunca viu.\n",
        "\n",
        "print(\"--- Passo 3: Dividindo os dados em treino e teste ---\")\n",
        "# 80% dos dados para treino, 20% para teste\n",
        "X_train, X_test, y_train, y_test = train_test_split(X, y, test_size=0.2, random_state=42)\n",
        "print(\"Tamanho do conjunto de treino:\", len(X_train))\n",
        "print(\"Tamanho do conjunto de teste:\", len(X_test))\n",
        "print(\"-\" * 30)"
      ],
      "metadata": {
        "colab": {
          "base_uri": "https://localhost:8080/"
        },
        "id": "7V7wb5pfC0oX",
        "outputId": "6adad696-6ba6-4d5e-a896-e304649b520c"
      },
      "execution_count": null,
      "outputs": [
        {
          "output_type": "stream",
          "name": "stdout",
          "text": [
            "--- Passo 3: Dividindo os dados em treino e teste ---\n",
            "Tamanho do conjunto de treino: 80\n",
            "Tamanho do conjunto de teste: 20\n",
            "------------------------------\n"
          ]
        }
      ]
    },
    {
      "cell_type": "code",
      "source": [
        "# --- Passo 4: Criar e Treinar o Modelo de Regressao Linear ---\n",
        "# Agora, criamos uma instancia do modelo e o alimentamos com nossos dados de treino.\n",
        "# O metodo .fit() e o coracao do aprendizado: e aqui que a \"magia\" acontece.\n",
        "\n",
        "print(\"--- Passo 4: Treinando o modelo de IA ---\")\n",
        "modelo_ia = LinearRegression()\n",
        "modelo_ia.fit(X_train, y_train)\n",
        "print(\"Modelo treinado com sucesso!\")\n",
        "print(\"-\" * 30)"
      ],
      "metadata": {
        "colab": {
          "base_uri": "https://localhost:8080/"
        },
        "id": "Lp0vHeg0C6Dl",
        "outputId": "55df9691-9941-4020-b2e6-b1394fcc310a"
      },
      "execution_count": null,
      "outputs": [
        {
          "output_type": "stream",
          "name": "stdout",
          "text": [
            "--- Passo 4: Treinando o modelo de IA ---\n",
            "Modelo treinado com sucesso!\n",
            "------------------------------\n"
          ]
        }
      ]
    },
    {
      "cell_type": "code",
      "source": [
        "# --- Passo 5: Fazer Previsoes com o Modelo Treinado ---\n",
        "# Com o modelo treinado, podemos usa-lo para prever o tempo de volta\n",
        "# usando os dados de teste que separamos anteriormente.\n",
        "\n",
        "print(\"--- Passo 5: Realizando previsoes com dados de teste ---\")\n",
        "previsoes_teste = modelo_ia.predict(X_test)\n",
        "\n",
        "# Vamos comparar alguns resultados previstos com os reais\n",
        "for i in range(5):\n",
        "    print(f\"Corrida de Teste #{i+1}:\")\n",
        "    print(f\"  - Dados dos Sensores: {np.round(X_test[i], 2)}\")\n",
        "    print(f\"  - Tempo Real: {round(y_test[i], 2)} segundos\")\n",
        "    print(f\"  - Previsao da IA: {round(previsoes_teste[i], 2)} segundos\")\n",
        "print(\"-\" * 30)"
      ],
      "metadata": {
        "colab": {
          "base_uri": "https://localhost:8080/"
        },
        "id": "_QSC--U9DbYm",
        "outputId": "00ed6020-e1d1-4d24-ab3a-ce4db7c4c139"
      },
      "execution_count": null,
      "outputs": [
        {
          "output_type": "stream",
          "name": "stdout",
          "text": [
            "--- Passo 5: Realizando previsoes com dados de teste ---\n",
            "Corrida de Teste #1:\n",
            "  - Dados dos Sensores: [156.36   4.63  93.76   0.83]\n",
            "  - Tempo Real: 147.3 segundos\n",
            "  - Previsao da IA: 145.32 segundos\n",
            "Corrida de Teste #2:\n",
            "  - Dados dos Sensores: [239.48   3.47 102.68   0.4 ]\n",
            "  - Tempo Real: 99.48 segundos\n",
            "  - Previsao da IA: 99.16 segundos\n",
            "Corrida de Teste #3:\n",
            "  - Dados dos Sensores: [227.22   4.03 122.37   0.36]\n",
            "  - Tempo Real: 106.97 segundos\n",
            "  - Previsao da IA: 107.75 segundos\n",
            "Corrida de Teste #4:\n",
            "  - Dados dos Sensores: [216.25   2.11 127.13   0.67]\n",
            "  - Tempo Real: 110.5 segundos\n",
            "  - Previsao da IA: 112.07 segundos\n",
            "Corrida de Teste #5:\n",
            "  - Dados dos Sensores: [175.88   2.85  90.62   0.54]\n",
            "  - Tempo Real: 130.17 segundos\n",
            "  - Previsao da IA: 130.12 segundos\n",
            "------------------------------\n"
          ]
        }
      ]
    },
    {
      "cell_type": "code",
      "source": [
        "# --- Passo 6: Avaliar o Desempenho do Modelo ---\n",
        "# Como saber se o modelo e bom? Usamos metricas de avaliacao.\n",
        "# R² (R-quadrado) nos diz o quao bem as features explicam a variacao do tempo de volta.\n",
        "# Um valor proximo de 1 e excelente.\n",
        "\n",
        "print(\"--- Passo 6: Avaliando o modelo ---\")\n",
        "r2 = r2_score(y_test, previsoes_teste)\n",
        "print(f\"Coeficiente de Determinacao (R²): {round(r2, 4)}\")\n",
        "print(\"-\" * 30)"
      ],
      "metadata": {
        "colab": {
          "base_uri": "https://localhost:8080/"
        },
        "id": "Y3hRRAYFDfcC",
        "outputId": "ff82d2c1-ae74-476c-a2b0-e0a0a18dea73"
      },
      "execution_count": null,
      "outputs": [
        {
          "output_type": "stream",
          "name": "stdout",
          "text": [
            "--- Passo 6: Avaliando o modelo ---\n",
            "Coeficiente de Determinacao (R²): 0.9847\n",
            "------------------------------\n"
          ]
        }
      ]
    },
    {
      "cell_type": "code",
      "source": [
        "# --- Passo 7: Usando a IA para a Estrategia da Proxima Corrida ---\n",
        "# A equipe de engenharia recebe os dados da telemetria para a proxima corrida.\n",
        "# Eles querem prever o tempo de volta para decidir a estrategia.\n",
        "\n",
        "print(\"--- Passo 7: Previsao para a proxima grande corrida! ---\")\n",
        "# Dados da nova moto, que sera mais rapida e eficiente\n",
        "nova_corrida_features = np.array([[\n",
        "    245.5, # Velocidade media esperada (alta)\n",
        "    3.5,   # Consumo de combustivel\n",
        "    110.2, # Temperatura do motor\n",
        "    0.65   # Atrito dos pneus\n",
        "]])\n",
        "\n",
        "# Usando o modelo para prever o tempo de volta\n",
        "tempo_previsto = modelo_ia.predict(nova_corrida_features)\n",
        "\n",
        "print(\"Dados da moto para a proxima corrida:\", nova_corrida_features[0])\n",
        "print(f\"\\n>> Previsao da IA para o tempo de volta: {round(tempo_previsto[0], 2)} segundos <<\")"
      ],
      "metadata": {
        "colab": {
          "base_uri": "https://localhost:8080/"
        },
        "id": "nZIXfcovDjFN",
        "outputId": "0c8b20af-db97-4999-ec76-84809b1d8e9a"
      },
      "execution_count": null,
      "outputs": [
        {
          "output_type": "stream",
          "name": "stdout",
          "text": [
            "--- Passo 7: Previsao para a proxima grande corrida! ---\n",
            "Dados da moto para a proxima corrida: [245.5    3.5  110.2    0.65]\n",
            "\n",
            ">> Previsao da IA para o tempo de volta: 98.36 segundos <<\n"
          ]
        }
      ]
    }
  ],
  "metadata": {
    "colab": {
      "provenance": []
    },
    "kernelspec": {
      "display_name": "Python 3",
      "name": "python3"
    }
  },
  "nbformat": 4,
  "nbformat_minor": 0
}